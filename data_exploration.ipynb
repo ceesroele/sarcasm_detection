{
 "cells": [
  {
   "cell_type": "markdown",
   "id": "1ce62da6-b5c2-4814-90c5-b8feb4e7f76f",
   "metadata": {},
   "source": [
    "# Exploration of Khodak et al. sarcasm dataset\n",
    "\n",
    "We work with a slightly converted dataset based on the [Khodak et al dataset](https://nlp.cs.princeton.edu/SARC/2.0/). \n",
    "\n",
    "Difference is that in the current dataset not the full ancestry of a comment is available, only the direct parent.\n",
    "\n",
    "The present exploration touches on a number of aspects of the dataset of which the most important are:\n",
    "* Length of comments\n",
    "* Non-vocabulary language\n",
    "\n",
    "Specific investigations might not have an observation or conclusion attached to them. That typically means that I saw no issue or potential improvement in them."
   ]
  },
  {
   "cell_type": "markdown",
   "id": "751cfda1-cf1e-4e6b-9f02-cc06cd81cd9a",
   "metadata": {},
   "source": [
    "## Import a number of python modules we need in the course of this notebook"
   ]
  },
  {
   "cell_type": "code",
   "execution_count": 1,
   "id": "a5eb2240-5d6f-4512-bb9c-539e32a43cde",
   "metadata": {},
   "outputs": [],
   "source": [
    "import pandas as pd\n",
    "from seaborn import histplot\n",
    "\n",
    "import matplotlib.pyplot as plt\n",
    "import seaborn as sns\n",
    "%matplotlib inline"
   ]
  },
  {
   "cell_type": "code",
   "execution_count": 2,
   "id": "7e9dbf16-a837-45aa-9e31-79d9c8162d56",
   "metadata": {},
   "outputs": [
    {
     "data": {
      "text/plain": [
       "'Identify if a string contains common markdown based on a regular expression.'"
      ]
     },
     "execution_count": 2,
     "metadata": {},
     "output_type": "execute_result"
    }
   ],
   "source": [
    "# Utility code in the local repository\n",
    "from utils import has_markdown\n",
    "has_markdown.__doc__"
   ]
  },
  {
   "cell_type": "markdown",
   "id": "65a9dfbe-f6de-4529-ad52-95d2d2f37a52",
   "metadata": {},
   "source": [
    "## Exploring the training dataset"
   ]
  },
  {
   "cell_type": "code",
   "execution_count": 3,
   "id": "80b05110-2259-451f-a3f1-8f1ea81185fd",
   "metadata": {},
   "outputs": [],
   "source": [
    "TRAIN_FILE = 'data/train.csv'"
   ]
  },
  {
   "cell_type": "markdown",
   "id": "46d11617-8d23-43ae-a4dd-2e8a25258e0c",
   "metadata": {},
   "source": [
    "When importing the CSV into a DataFrame we convert the `comment`, `subreddit`, and `parent_comment` columns to the string type."
   ]
  },
  {
   "cell_type": "code",
   "execution_count": 4,
   "id": "d3c62a0a-245a-425a-a802-266ab586959b",
   "metadata": {},
   "outputs": [],
   "source": [
    "train_df = pd.read_csv(TRAIN_FILE, dtype={'comment': pd.StringDtype(), 'subreddit': pd.StringDtype(), 'parent_comment': pd.StringDtype()})"
   ]
  },
  {
   "cell_type": "code",
   "execution_count": 5,
   "id": "ffdae125-5bfb-4abf-b245-4e922b507f66",
   "metadata": {},
   "outputs": [
    {
     "name": "stdout",
     "output_type": "stream",
     "text": [
      "<class 'pandas.core.frame.DataFrame'>\n",
      "RangeIndex: 909744 entries, 0 to 909743\n",
      "Data columns (total 11 columns):\n",
      " #   Column          Non-Null Count   Dtype \n",
      "---  ------          --------------   ----- \n",
      " 0   id              909744 non-null  int64 \n",
      " 1   label           909744 non-null  int64 \n",
      " 2   comment         909697 non-null  string\n",
      " 3   author          909744 non-null  object\n",
      " 4   subreddit       909744 non-null  string\n",
      " 5   score           909744 non-null  int64 \n",
      " 6   ups             909744 non-null  int64 \n",
      " 7   downs           909744 non-null  int64 \n",
      " 8   date            909744 non-null  object\n",
      " 9   created_utc     909744 non-null  object\n",
      " 10  parent_comment  909744 non-null  string\n",
      "dtypes: int64(5), object(3), string(3)\n",
      "memory usage: 76.3+ MB\n"
     ]
    }
   ],
   "source": [
    "train_df.info()"
   ]
  },
  {
   "cell_type": "code",
   "execution_count": 6,
   "id": "967fc246-e816-4538-a3cb-8d68924078c7",
   "metadata": {},
   "outputs": [],
   "source": [
    "train_df['comment_length'] = train_df['comment'].str.len()\n",
    "train_df['parent_comment_length'] = train_df['parent_comment'].str.len()"
   ]
  },
  {
   "cell_type": "code",
   "execution_count": 7,
   "id": "14378d78-cbbf-49fc-a7ff-6710a83f02a0",
   "metadata": {},
   "outputs": [
    {
     "data": {
      "text/html": [
       "<div>\n",
       "<style scoped>\n",
       "    .dataframe tbody tr th:only-of-type {\n",
       "        vertical-align: middle;\n",
       "    }\n",
       "\n",
       "    .dataframe tbody tr th {\n",
       "        vertical-align: top;\n",
       "    }\n",
       "\n",
       "    .dataframe thead th {\n",
       "        text-align: right;\n",
       "    }\n",
       "</style>\n",
       "<table border=\"1\" class=\"dataframe\">\n",
       "  <thead>\n",
       "    <tr style=\"text-align: right;\">\n",
       "      <th></th>\n",
       "      <th>label</th>\n",
       "      <th>score</th>\n",
       "      <th>ups</th>\n",
       "      <th>downs</th>\n",
       "      <th>comment_length</th>\n",
       "      <th>parent_comment_length</th>\n",
       "    </tr>\n",
       "  </thead>\n",
       "  <tbody>\n",
       "    <tr>\n",
       "      <th>count</th>\n",
       "      <td>909744.0</td>\n",
       "      <td>909744.000000</td>\n",
       "      <td>909744.000000</td>\n",
       "      <td>909744.000000</td>\n",
       "      <td>909697.000000</td>\n",
       "      <td>909744.000000</td>\n",
       "    </tr>\n",
       "    <tr>\n",
       "      <th>mean</th>\n",
       "      <td>0.5</td>\n",
       "      <td>6.871109</td>\n",
       "      <td>5.493538</td>\n",
       "      <td>-0.145876</td>\n",
       "      <td>56.778736</td>\n",
       "      <td>133.607840</td>\n",
       "    </tr>\n",
       "    <tr>\n",
       "      <th>std</th>\n",
       "      <td>0.5</td>\n",
       "      <td>47.728379</td>\n",
       "      <td>41.205716</td>\n",
       "      <td>0.352982</td>\n",
       "      <td>60.912524</td>\n",
       "      <td>228.774808</td>\n",
       "    </tr>\n",
       "    <tr>\n",
       "      <th>min</th>\n",
       "      <td>0.0</td>\n",
       "      <td>-507.000000</td>\n",
       "      <td>-507.000000</td>\n",
       "      <td>-1.000000</td>\n",
       "      <td>1.000000</td>\n",
       "      <td>1.000000</td>\n",
       "    </tr>\n",
       "    <tr>\n",
       "      <th>25%</th>\n",
       "      <td>0.0</td>\n",
       "      <td>1.000000</td>\n",
       "      <td>0.000000</td>\n",
       "      <td>0.000000</td>\n",
       "      <td>27.000000</td>\n",
       "      <td>42.000000</td>\n",
       "    </tr>\n",
       "    <tr>\n",
       "      <th>50%</th>\n",
       "      <td>0.5</td>\n",
       "      <td>2.000000</td>\n",
       "      <td>1.000000</td>\n",
       "      <td>0.000000</td>\n",
       "      <td>46.000000</td>\n",
       "      <td>75.000000</td>\n",
       "    </tr>\n",
       "    <tr>\n",
       "      <th>75%</th>\n",
       "      <td>1.0</td>\n",
       "      <td>4.000000</td>\n",
       "      <td>3.000000</td>\n",
       "      <td>0.000000</td>\n",
       "      <td>74.000000</td>\n",
       "      <td>145.000000</td>\n",
       "    </tr>\n",
       "    <tr>\n",
       "      <th>99%</th>\n",
       "      <td>1.0</td>\n",
       "      <td>88.000000</td>\n",
       "      <td>75.000000</td>\n",
       "      <td>0.000000</td>\n",
       "      <td>207.000000</td>\n",
       "      <td>953.000000</td>\n",
       "    </tr>\n",
       "    <tr>\n",
       "      <th>max</th>\n",
       "      <td>1.0</td>\n",
       "      <td>7563.000000</td>\n",
       "      <td>5163.000000</td>\n",
       "      <td>0.000000</td>\n",
       "      <td>10000.000000</td>\n",
       "      <td>23306.000000</td>\n",
       "    </tr>\n",
       "  </tbody>\n",
       "</table>\n",
       "</div>"
      ],
      "text/plain": [
       "          label          score            ups          downs  comment_length  \\\n",
       "count  909744.0  909744.000000  909744.000000  909744.000000   909697.000000   \n",
       "mean        0.5       6.871109       5.493538      -0.145876       56.778736   \n",
       "std         0.5      47.728379      41.205716       0.352982       60.912524   \n",
       "min         0.0    -507.000000    -507.000000      -1.000000        1.000000   \n",
       "25%         0.0       1.000000       0.000000       0.000000       27.000000   \n",
       "50%         0.5       2.000000       1.000000       0.000000       46.000000   \n",
       "75%         1.0       4.000000       3.000000       0.000000       74.000000   \n",
       "99%         1.0      88.000000      75.000000       0.000000      207.000000   \n",
       "max         1.0    7563.000000    5163.000000       0.000000    10000.000000   \n",
       "\n",
       "       parent_comment_length  \n",
       "count          909744.000000  \n",
       "mean              133.607840  \n",
       "std               228.774808  \n",
       "min                 1.000000  \n",
       "25%                42.000000  \n",
       "50%                75.000000  \n",
       "75%               145.000000  \n",
       "99%               953.000000  \n",
       "max             23306.000000  "
      ]
     },
     "execution_count": 7,
     "metadata": {},
     "output_type": "execute_result"
    }
   ],
   "source": [
    "train_df[['label', 'score', 'ups', 'downs', 'comment_length', 'parent_comment_length']].describe(percentiles=[0.25, 0.50,0.75,0.99])"
   ]
  },
  {
   "cell_type": "markdown",
   "id": "6aa01169-87a1-44eb-8d7b-57d0c3c33f83",
   "metadata": {},
   "source": [
    "**Observations**: \n",
    "\n",
    "* Equal number of sarcasm and non-sarcasm labels\n",
    "* `Comment` length significantly shorter than `parent_comment` length\n",
    "* Some comments and parent comments are **very long**.\n",
    "* The length of `comment` of the 99% percentile comfortably fits an easily processed input, whereas that of the `parent_comment` is rather long."
   ]
  },
  {
   "cell_type": "code",
   "execution_count": 8,
   "id": "dba453e7-1552-4dc5-b9fa-650e2e6f9509",
   "metadata": {},
   "outputs": [
    {
     "data": {
      "text/html": [
       "<div>\n",
       "<style scoped>\n",
       "    .dataframe tbody tr th:only-of-type {\n",
       "        vertical-align: middle;\n",
       "    }\n",
       "\n",
       "    .dataframe tbody tr th {\n",
       "        vertical-align: top;\n",
       "    }\n",
       "\n",
       "    .dataframe thead th {\n",
       "        text-align: right;\n",
       "    }\n",
       "</style>\n",
       "<table border=\"1\" class=\"dataframe\">\n",
       "  <thead>\n",
       "    <tr style=\"text-align: right;\">\n",
       "      <th></th>\n",
       "      <th>id</th>\n",
       "      <th>label</th>\n",
       "      <th>comment</th>\n",
       "      <th>author</th>\n",
       "      <th>subreddit</th>\n",
       "      <th>score</th>\n",
       "      <th>ups</th>\n",
       "      <th>downs</th>\n",
       "      <th>date</th>\n",
       "      <th>created_utc</th>\n",
       "      <th>parent_comment</th>\n",
       "      <th>comment_length</th>\n",
       "      <th>parent_comment_length</th>\n",
       "    </tr>\n",
       "  </thead>\n",
       "  <tbody>\n",
       "    <tr>\n",
       "      <th>0</th>\n",
       "      <td>1</td>\n",
       "      <td>0</td>\n",
       "      <td>\"\"I like my shortstops how I like my beef... i...</td>\n",
       "      <td>yourstrulytony</td>\n",
       "      <td>Dodgers</td>\n",
       "      <td>3</td>\n",
       "      <td>3</td>\n",
       "      <td>0</td>\n",
       "      <td>2016-06</td>\n",
       "      <td>2016-06-10 16:13:47</td>\n",
       "      <td>Need my Dodgerbros help returning fire at my c...</td>\n",
       "      <td>143</td>\n",
       "      <td>212</td>\n",
       "    </tr>\n",
       "    <tr>\n",
       "      <th>1</th>\n",
       "      <td>2</td>\n",
       "      <td>1</td>\n",
       "      <td>He works in mysterious ways</td>\n",
       "      <td>polarbear2217</td>\n",
       "      <td>atheism</td>\n",
       "      <td>1</td>\n",
       "      <td>1</td>\n",
       "      <td>0</td>\n",
       "      <td>2013-01</td>\n",
       "      <td>2013-01-26 23:59:33</td>\n",
       "      <td>My cousin was perfect when he was born, except...</td>\n",
       "      <td>27</td>\n",
       "      <td>276</td>\n",
       "    </tr>\n",
       "    <tr>\n",
       "      <th>2</th>\n",
       "      <td>3</td>\n",
       "      <td>0</td>\n",
       "      <td>You're right</td>\n",
       "      <td>ineedtotakeashit</td>\n",
       "      <td>news</td>\n",
       "      <td>18</td>\n",
       "      <td>18</td>\n",
       "      <td>0</td>\n",
       "      <td>2015-11</td>\n",
       "      <td>2015-11-11 23:12:16</td>\n",
       "      <td>Not defending the deplorable scam, but the per...</td>\n",
       "      <td>12</td>\n",
       "      <td>270</td>\n",
       "    </tr>\n",
       "    <tr>\n",
       "      <th>3</th>\n",
       "      <td>4</td>\n",
       "      <td>0</td>\n",
       "      <td>Is this amount of meat in the ratio of meat to...</td>\n",
       "      <td>HylianHal</td>\n",
       "      <td>FoodPorn</td>\n",
       "      <td>3</td>\n",
       "      <td>3</td>\n",
       "      <td>0</td>\n",
       "      <td>2016-08</td>\n",
       "      <td>2016-08-20 06:35:45</td>\n",
       "      <td>I'm on my break from 4th st Deli right now, th...</td>\n",
       "      <td>61</td>\n",
       "      <td>78</td>\n",
       "    </tr>\n",
       "    <tr>\n",
       "      <th>4</th>\n",
       "      <td>5</td>\n",
       "      <td>0</td>\n",
       "      <td>You can hug and kiss my ass X and O</td>\n",
       "      <td>ShyTownNinja_NasFlo</td>\n",
       "      <td>BlackPeopleTwitter</td>\n",
       "      <td>2</td>\n",
       "      <td>2</td>\n",
       "      <td>0</td>\n",
       "      <td>2016-05</td>\n",
       "      <td>2016-05-04 15:18:15</td>\n",
       "      <td>can yall pls stop reposting this one. it aint ...</td>\n",
       "      <td>35</td>\n",
       "      <td>79</td>\n",
       "    </tr>\n",
       "  </tbody>\n",
       "</table>\n",
       "</div>"
      ],
      "text/plain": [
       "   id  label                                            comment  \\\n",
       "0   1      0  \"\"I like my shortstops how I like my beef... i...   \n",
       "1   2      1                        He works in mysterious ways   \n",
       "2   3      0                                       You're right   \n",
       "3   4      0  Is this amount of meat in the ratio of meat to...   \n",
       "4   5      0                You can hug and kiss my ass X and O   \n",
       "\n",
       "                author           subreddit  score  ups  downs     date  \\\n",
       "0       yourstrulytony             Dodgers      3    3      0  2016-06   \n",
       "1        polarbear2217             atheism      1    1      0  2013-01   \n",
       "2     ineedtotakeashit                news     18   18      0  2015-11   \n",
       "3            HylianHal            FoodPorn      3    3      0  2016-08   \n",
       "4  ShyTownNinja_NasFlo  BlackPeopleTwitter      2    2      0  2016-05   \n",
       "\n",
       "           created_utc                                     parent_comment  \\\n",
       "0  2016-06-10 16:13:47  Need my Dodgerbros help returning fire at my c...   \n",
       "1  2013-01-26 23:59:33  My cousin was perfect when he was born, except...   \n",
       "2  2015-11-11 23:12:16  Not defending the deplorable scam, but the per...   \n",
       "3  2016-08-20 06:35:45  I'm on my break from 4th st Deli right now, th...   \n",
       "4  2016-05-04 15:18:15  can yall pls stop reposting this one. it aint ...   \n",
       "\n",
       "   comment_length  parent_comment_length  \n",
       "0             143                    212  \n",
       "1              27                    276  \n",
       "2              12                    270  \n",
       "3              61                     78  \n",
       "4              35                     79  "
      ]
     },
     "execution_count": 8,
     "metadata": {},
     "output_type": "execute_result"
    }
   ],
   "source": [
    "train_df.head()"
   ]
  },
  {
   "cell_type": "code",
   "execution_count": 9,
   "id": "9dce9076-b0c9-4062-8bb8-219479e6b2c5",
   "metadata": {},
   "outputs": [],
   "source": [
    "count_subreddit_df = train_df[['id','subreddit']].groupby(\"subreddit\").count().sort_values(by='id', ascending=False).reset_index()"
   ]
  },
  {
   "cell_type": "code",
   "execution_count": 10,
   "id": "77b19dea-c1c7-4d1d-8e43-148c9c7719af",
   "metadata": {},
   "outputs": [
    {
     "data": {
      "text/html": [
       "<div>\n",
       "<style scoped>\n",
       "    .dataframe tbody tr th:only-of-type {\n",
       "        vertical-align: middle;\n",
       "    }\n",
       "\n",
       "    .dataframe tbody tr th {\n",
       "        vertical-align: top;\n",
       "    }\n",
       "\n",
       "    .dataframe thead th {\n",
       "        text-align: right;\n",
       "    }\n",
       "</style>\n",
       "<table border=\"1\" class=\"dataframe\">\n",
       "  <thead>\n",
       "    <tr style=\"text-align: right;\">\n",
       "      <th></th>\n",
       "      <th>subreddit</th>\n",
       "      <th>id</th>\n",
       "    </tr>\n",
       "  </thead>\n",
       "  <tbody>\n",
       "    <tr>\n",
       "      <th>0</th>\n",
       "      <td>AskReddit</td>\n",
       "      <td>59039</td>\n",
       "    </tr>\n",
       "    <tr>\n",
       "      <th>1</th>\n",
       "      <td>politics</td>\n",
       "      <td>35377</td>\n",
       "    </tr>\n",
       "    <tr>\n",
       "      <th>2</th>\n",
       "      <td>worldnews</td>\n",
       "      <td>23705</td>\n",
       "    </tr>\n",
       "    <tr>\n",
       "      <th>3</th>\n",
       "      <td>leagueoflegends</td>\n",
       "      <td>18978</td>\n",
       "    </tr>\n",
       "    <tr>\n",
       "      <th>4</th>\n",
       "      <td>pcmasterrace</td>\n",
       "      <td>17147</td>\n",
       "    </tr>\n",
       "    <tr>\n",
       "      <th>5</th>\n",
       "      <td>funny</td>\n",
       "      <td>16082</td>\n",
       "    </tr>\n",
       "    <tr>\n",
       "      <th>6</th>\n",
       "      <td>news</td>\n",
       "      <td>15162</td>\n",
       "    </tr>\n",
       "    <tr>\n",
       "      <th>7</th>\n",
       "      <td>pics</td>\n",
       "      <td>14550</td>\n",
       "    </tr>\n",
       "    <tr>\n",
       "      <th>8</th>\n",
       "      <td>todayilearned</td>\n",
       "      <td>12738</td>\n",
       "    </tr>\n",
       "    <tr>\n",
       "      <th>9</th>\n",
       "      <td>nfl</td>\n",
       "      <td>12725</td>\n",
       "    </tr>\n",
       "  </tbody>\n",
       "</table>\n",
       "</div>"
      ],
      "text/plain": [
       "         subreddit     id\n",
       "0        AskReddit  59039\n",
       "1         politics  35377\n",
       "2        worldnews  23705\n",
       "3  leagueoflegends  18978\n",
       "4     pcmasterrace  17147\n",
       "5            funny  16082\n",
       "6             news  15162\n",
       "7             pics  14550\n",
       "8    todayilearned  12738\n",
       "9              nfl  12725"
      ]
     },
     "execution_count": 10,
     "metadata": {},
     "output_type": "execute_result"
    }
   ],
   "source": [
    "count_subreddit_df.head(10)"
   ]
  },
  {
   "cell_type": "code",
   "execution_count": 11,
   "id": "030ddcbe-5bbb-4ea6-9996-ad560271d921",
   "metadata": {},
   "outputs": [],
   "source": [
    "sum_label_subreddit_df = train_df[['subreddit', 'label']].groupby(\"subreddit\").sum('label').sort_values(by='label', ascending=False).reset_index()"
   ]
  },
  {
   "cell_type": "code",
   "execution_count": 12,
   "id": "60f20026-61b0-4842-afdc-e5740785881b",
   "metadata": {},
   "outputs": [
    {
     "data": {
      "text/html": [
       "<div>\n",
       "<style scoped>\n",
       "    .dataframe tbody tr th:only-of-type {\n",
       "        vertical-align: middle;\n",
       "    }\n",
       "\n",
       "    .dataframe tbody tr th {\n",
       "        vertical-align: top;\n",
       "    }\n",
       "\n",
       "    .dataframe thead th {\n",
       "        text-align: right;\n",
       "    }\n",
       "</style>\n",
       "<table border=\"1\" class=\"dataframe\">\n",
       "  <thead>\n",
       "    <tr style=\"text-align: right;\">\n",
       "      <th></th>\n",
       "      <th>subreddit</th>\n",
       "      <th>label</th>\n",
       "    </tr>\n",
       "  </thead>\n",
       "  <tbody>\n",
       "    <tr>\n",
       "      <th>0</th>\n",
       "      <td>AskReddit</td>\n",
       "      <td>23692</td>\n",
       "    </tr>\n",
       "    <tr>\n",
       "      <th>1</th>\n",
       "      <td>politics</td>\n",
       "      <td>21414</td>\n",
       "    </tr>\n",
       "    <tr>\n",
       "      <th>2</th>\n",
       "      <td>worldnews</td>\n",
       "      <td>15224</td>\n",
       "    </tr>\n",
       "    <tr>\n",
       "      <th>3</th>\n",
       "      <td>leagueoflegends</td>\n",
       "      <td>10303</td>\n",
       "    </tr>\n",
       "    <tr>\n",
       "      <th>4</th>\n",
       "      <td>pcmasterrace</td>\n",
       "      <td>9679</td>\n",
       "    </tr>\n",
       "    <tr>\n",
       "      <th>5</th>\n",
       "      <td>news</td>\n",
       "      <td>9164</td>\n",
       "    </tr>\n",
       "    <tr>\n",
       "      <th>6</th>\n",
       "      <td>funny</td>\n",
       "      <td>7269</td>\n",
       "    </tr>\n",
       "    <tr>\n",
       "      <th>7</th>\n",
       "      <td>pics</td>\n",
       "      <td>7049</td>\n",
       "    </tr>\n",
       "    <tr>\n",
       "      <th>8</th>\n",
       "      <td>todayilearned</td>\n",
       "      <td>7018</td>\n",
       "    </tr>\n",
       "    <tr>\n",
       "      <th>9</th>\n",
       "      <td>AdviceAnimals</td>\n",
       "      <td>6885</td>\n",
       "    </tr>\n",
       "  </tbody>\n",
       "</table>\n",
       "</div>"
      ],
      "text/plain": [
       "         subreddit  label\n",
       "0        AskReddit  23692\n",
       "1         politics  21414\n",
       "2        worldnews  15224\n",
       "3  leagueoflegends  10303\n",
       "4     pcmasterrace   9679\n",
       "5             news   9164\n",
       "6            funny   7269\n",
       "7             pics   7049\n",
       "8    todayilearned   7018\n",
       "9    AdviceAnimals   6885"
      ]
     },
     "execution_count": 12,
     "metadata": {},
     "output_type": "execute_result"
    }
   ],
   "source": [
    "sum_label_subreddit_df.head(10)"
   ]
  },
  {
   "cell_type": "code",
   "execution_count": 13,
   "id": "c45882d2-79cf-41e1-a243-0970f64e00c6",
   "metadata": {},
   "outputs": [
    {
     "name": "stderr",
     "output_type": "stream",
     "text": [
      "<ipython-input-13-11e8c1e5ab91>:2: SettingWithCopyWarning: \n",
      "A value is trying to be set on a copy of a slice from a DataFrame.\n",
      "Try using .loc[row_indexer,col_indexer] = value instead\n",
      "\n",
      "See the caveats in the documentation: https://pandas.pydata.org/pandas-docs/stable/user_guide/indexing.html#returning-a-view-versus-a-copy\n",
      "  subreddit_df['is_pos'] = subreddit_df['label'] == 1\n",
      "<ipython-input-13-11e8c1e5ab91>:3: SettingWithCopyWarning: \n",
      "A value is trying to be set on a copy of a slice from a DataFrame.\n",
      "Try using .loc[row_indexer,col_indexer] = value instead\n",
      "\n",
      "See the caveats in the documentation: https://pandas.pydata.org/pandas-docs/stable/user_guide/indexing.html#returning-a-view-versus-a-copy\n",
      "  subreddit_df['is_neg'] = subreddit_df['label'] == 0\n"
     ]
    }
   ],
   "source": [
    "subreddit_df = train_df[['subreddit', 'label']]\n",
    "subreddit_df['is_pos'] = subreddit_df['label'] == 1\n",
    "subreddit_df['is_neg'] = subreddit_df['label'] == 0"
   ]
  },
  {
   "cell_type": "code",
   "execution_count": 14,
   "id": "ef67ffd9-7ccb-47d9-a731-f22924664f56",
   "metadata": {},
   "outputs": [
    {
     "data": {
      "text/html": [
       "<div>\n",
       "<style scoped>\n",
       "    .dataframe tbody tr th:only-of-type {\n",
       "        vertical-align: middle;\n",
       "    }\n",
       "\n",
       "    .dataframe tbody tr th {\n",
       "        vertical-align: top;\n",
       "    }\n",
       "\n",
       "    .dataframe thead th {\n",
       "        text-align: right;\n",
       "    }\n",
       "</style>\n",
       "<table border=\"1\" class=\"dataframe\">\n",
       "  <thead>\n",
       "    <tr style=\"text-align: right;\">\n",
       "      <th></th>\n",
       "      <th>subreddit</th>\n",
       "      <th>label</th>\n",
       "      <th>is_pos</th>\n",
       "      <th>is_neg</th>\n",
       "    </tr>\n",
       "  </thead>\n",
       "  <tbody>\n",
       "    <tr>\n",
       "      <th>0</th>\n",
       "      <td>Dodgers</td>\n",
       "      <td>0</td>\n",
       "      <td>False</td>\n",
       "      <td>True</td>\n",
       "    </tr>\n",
       "    <tr>\n",
       "      <th>1</th>\n",
       "      <td>atheism</td>\n",
       "      <td>1</td>\n",
       "      <td>True</td>\n",
       "      <td>False</td>\n",
       "    </tr>\n",
       "    <tr>\n",
       "      <th>2</th>\n",
       "      <td>news</td>\n",
       "      <td>0</td>\n",
       "      <td>False</td>\n",
       "      <td>True</td>\n",
       "    </tr>\n",
       "    <tr>\n",
       "      <th>3</th>\n",
       "      <td>FoodPorn</td>\n",
       "      <td>0</td>\n",
       "      <td>False</td>\n",
       "      <td>True</td>\n",
       "    </tr>\n",
       "    <tr>\n",
       "      <th>4</th>\n",
       "      <td>BlackPeopleTwitter</td>\n",
       "      <td>0</td>\n",
       "      <td>False</td>\n",
       "      <td>True</td>\n",
       "    </tr>\n",
       "  </tbody>\n",
       "</table>\n",
       "</div>"
      ],
      "text/plain": [
       "            subreddit  label  is_pos  is_neg\n",
       "0             Dodgers      0   False    True\n",
       "1             atheism      1    True   False\n",
       "2                news      0   False    True\n",
       "3            FoodPorn      0   False    True\n",
       "4  BlackPeopleTwitter      0   False    True"
      ]
     },
     "execution_count": 14,
     "metadata": {},
     "output_type": "execute_result"
    }
   ],
   "source": [
    "subreddit_df.head()"
   ]
  },
  {
   "cell_type": "markdown",
   "id": "09f1974e-f715-49c8-b99a-fe352030c3bf",
   "metadata": {},
   "source": [
    "## Extremes: how about long comments?\n",
    "\n",
    "Below I have a look at long comments. I saw no reason to give them a special treatment."
   ]
  },
  {
   "cell_type": "code",
   "execution_count": 15,
   "id": "4b9ac302-b4b9-45d3-88c9-907ca5c43c5e",
   "metadata": {},
   "outputs": [
    {
     "name": "stdout",
     "output_type": "stream",
     "text": [
      "Found 1870 comments longer than 300 characters out of total of 909744 comments => proportion: 0.0021\n"
     ]
    }
   ],
   "source": [
    "LONG_CUT_OFF = 300\n",
    "long_df = train_df[train_df['comment_length'] > LONG_CUT_OFF]\n",
    "print(f'Found {long_df.shape[0]} comments longer than {LONG_CUT_OFF} characters out of total of {train_df.shape[0]} comments => proportion: {long_df.shape[0]/train_df.shape[0]:0.4f}')"
   ]
  },
  {
   "cell_type": "code",
   "execution_count": 16,
   "id": "fb7a303f-5d38-4ae8-8bf9-33c93e703477",
   "metadata": {},
   "outputs": [
    {
     "data": {
      "text/plain": [
       "['celtics 2100 - 2099 - 2098 - 2097 - 2096 - 2095 - 2094 - 2093 - 2092 - 2091 2090 - 2089 - 2088 - 2087 - 2086 - 2085 - 2084 - 2083 - 2082 - 2081 2080 - 2079 - 2078 - 2077 - 2076 - 2075 - 2074 - 2073 - 2072 - 2071 2070 - 2069 - 2068 - 2067 - 2066 - 2065 - 2064 - 2063 - 2062 - 2061 2060 - 2059 - 2058 - 2057 - 2056 - 2055 - 2054 - 2053 - 2052 - 2051 2050 - 2049 - 2048 - 2047 - 2046 - 2045 - 2044 - 2043 - 2042 - 2041 2040 - 2039 - 2038 - 2037 - 2036 - 2035 - 2034 - 2033 - 2032 - 2031 2030 - 2029 - 2028 - 2027 - 2026 - 2025 - 2024 - 2023 - 2022 - 2021 2020 - 2019 nba champs',\n",
       " 'There is no official info about it because they abandoned the story ark that included him long time ago but it has been said that the real Swain is either dead or lost and locked inside his own mind, and what we see is Beatrice (i think that was his name), the bird, who is actually like a daemon or a monster that took control of the body... you get the point',\n",
       " 'But two is not enough to give full coverage, giving for a lot of blind-spots, allowing for a lot of the activity to never be caught on camera, making the inclusion of just two cameras not helpful to the task of trying to catch a crime on film, meaning that for a parking garage to have good and thorough coverage they need more than a handful of cameras, and that is why the camera needs of a parking garage is not comparable to the camera needs of a 7-11.',\n",
       " \"I'm not saying they should cater specifically to moderate republicans, I'm saying they could steal a platform that has been the foundation of the party for decades by painting them as the party that's against the free market, that wants to personally stick their hands into private business management decisions.\",\n",
       " 'He was a very bright person, I don\\'t think many people can dispute that for very long, and judging by the number of books he would acquire over the years I think it\\'s safe to say that while he didn\\'t have \"\"formal\"\" education, he was well educated in certain areas, as evidenced by his putting 19th century philosophy, science, and other theories into his various works.']"
      ]
     },
     "execution_count": 16,
     "metadata": {},
     "output_type": "execute_result"
    }
   ],
   "source": [
    "# Let's see some examples of long comments\n",
    "long_df['comment'].tolist()[:5]"
   ]
  },
  {
   "cell_type": "markdown",
   "id": "968fd4f6-60ee-406d-8791-74d1b1015c7f",
   "metadata": {},
   "source": [
    "### Non-grammatical comments"
   ]
  },
  {
   "cell_type": "code",
   "execution_count": 17,
   "id": "c528419a-9636-4f35-b4c5-0d55b4fdd72a",
   "metadata": {},
   "outputs": [],
   "source": [
    "def non_grammar(comment):\n",
    "    \"\"\"Find non-grammatical expressions\"\"\"\n",
    "    no_string = not isinstance(comment, str)\n",
    "    if no_string:\n",
    "        return True\n",
    "    else:\n",
    "        has_quotes = comment.find('\"') >= 0\n",
    "        has_underscore = comment.find('_') >= 0\n",
    "        has_emoticons = comment.find(':-)') >= 0 or comment.find(':-(') >= 0\n",
    "        has_markdown = comment.find('~~') >= 0 or \\\n",
    "            comment.find('**') >= 0 or \\\n",
    "            comment.find('__') >= 0 or \\\n",
    "            comment.find('](http://') >= 0\n",
    "        return has_quotes or has_underscore or has_emoticons or has_markdown"
   ]
  },
  {
   "cell_type": "code",
   "execution_count": 18,
   "id": "6696533f-5e82-47c3-a2ba-dcd5c0fbda1b",
   "metadata": {},
   "outputs": [
    {
     "data": {
      "text/plain": [
       "'found 40527 out of total of 909744 items'"
      ]
     },
     "execution_count": 18,
     "metadata": {},
     "output_type": "execute_result"
    }
   ],
   "source": [
    "comments = train_df['comment'].to_list()\n",
    "comments_only_non_grammar = list(filter(lambda x: non_grammar(x), comments))\n",
    "f'found {len(comments_only_non_grammar)} out of total of {train_df.shape[0]} items'"
   ]
  },
  {
   "cell_type": "code",
   "execution_count": 19,
   "id": "b1e2383c-70ce-446e-b034-ef0069ec6bce",
   "metadata": {},
   "outputs": [
    {
     "data": {
      "text/plain": [
       "['\"\"I like my shortstops how I like my beef... injected full of hormones\"\"- picture of Delvin Perez and Jhonny Peralta and a roided out bull/cow.',\n",
       " 'Absolutely love the bass line in \"\"Long View\"\" by Green Day',\n",
       " '\"\"somehow\"\" Obviously you think they have good plot.',\n",
       " 'Will we hear the NYCFC \"\"we don\\'t give a crud\"\" chant in FIFA 17?',\n",
       " 'Barring the article, I thought it was a pretty accurate representation of the acclaimed, \"\"Rock award winning\"\" artist.',\n",
       " '\"\"Butch\"\", like every other word they use, means exactly what they want it to mean at the moment they use it - that is, it means whatever makes it easiest to end the sentence with, \"\"...and that\\'s why trans people are bad.\"\"',\n",
       " 'I\\'ll never forget having \"\"Slaver\"\" branded on my characters forehead, that was a bit of karmic retribution on my part.',\n",
       " 'thats fun then -_-',\n",
       " '\"\"They are occupying Gaza!\"\"',\n",
       " \"Others have posted some really great stuff, but [here's](http://pillarsofcatholicism.com) some videos about both philosophy *and* theology from some of the professors at JPCatholic (Newman guide school).\"]"
      ]
     },
     "execution_count": 19,
     "metadata": {},
     "output_type": "execute_result"
    }
   ],
   "source": [
    "comments_only_non_grammar[:10]"
   ]
  },
  {
   "cell_type": "markdown",
   "id": "c8e3d757-f457-43c4-bbea-4312cb6e20df",
   "metadata": {},
   "source": [
    "### Reddit and markdown\n",
    "\n",
    "[Markdown on Reddit](https://www.reddit.com/wiki/markdown) is well described. However, the current format came into use in September 2018. The content of our dataset was created before that date.\n",
    "\n"
   ]
  },
  {
   "cell_type": "code",
   "execution_count": 20,
   "id": "96ebd5a4-b190-419c-9160-eeddd152360f",
   "metadata": {},
   "outputs": [
    {
     "data": {
      "text/plain": [
       "'Found 4320 items conforming to the markdown regex'"
      ]
     },
     "execution_count": 20,
     "metadata": {},
     "output_type": "execute_result"
    }
   ],
   "source": [
    "markdown_df = train_df[train_df['comment'].apply(has_markdown)]\n",
    "f'Found {markdown_df.shape[0]} items conforming to the markdown regex'"
   ]
  },
  {
   "cell_type": "code",
   "execution_count": 21,
   "id": "e45ddf7c-4026-4e81-a9c1-d73bf8174aa8",
   "metadata": {},
   "outputs": [
    {
     "data": {
      "text/plain": [
       "rec.array([(\"Others have posted some really great stuff, but [here's](http://pillarsofcatholicism.com) some videos about both philosophy *and* theology from some of the professors at JPCatholic (Newman guide school).\", 0),\n",
       "           ('\"\"Now excuse me as I take these Cleveland Browns to ~~the super bowl~~ my mouth!\"\"', 0),\n",
       "           ('It was (m)y **privilege** you CIS scum!', 1),\n",
       "           ('Yeah but Bushes War Crimes are nothing in comparison to **BENGHAZI**, will you not think of the victims families?', 1),\n",
       "           ('**Rabble Rabble** The cyclist is not wearing a helmet so all accidents are their fault.', 1),\n",
       "           ('Should have watched **before** criticizing my post.', 0),\n",
       "           ('This deserves a new meme **Good guy nazi**', 1),\n",
       "           ('That sounds kinda **stalker**y. Do you do this at **night**?', 0),\n",
       "           ('Exactly, comparing Scandinavian countries relationships to ~~North~~ Best and South Korea totally makes sense.', 1),\n",
       "           (\"It must be your imagination, I **can't** imagine where you would think of something like that.\", 1),\n",
       "           ('WE TOLD YOU **NOT** TO BEAT THEM LAST YEAR', 0),\n",
       "           (\"Just for that I'm going to ~~have you sent to a death camp~~ write a strongly worded letter to The Times... Damn!\", 0),\n",
       "           ('Beast mode app... ***engage***', 0),\n",
       "           ('Congratulations Murdoch for making me side with **Alan Fucking Jones**.', 0),\n",
       "           ('The ~~cabal~~ she-bal is rising.', 0),\n",
       "           (\"Quando c'era **lui** eravamo primi, colpa di Renzi!\", 1),\n",
       "           ('Even if there was it would be **a lot** more expensive to pull off a high fee attack with bigger blocks.', 0),\n",
       "           ('** WHAT THE FUCK IS THIS SHIT**', 0),\n",
       "           ('You mean **by** purpose right?', 1),\n",
       "           ('[http://www.downloadmoreram.com](http://www.downloadmoreram.com)', 1)],\n",
       "          dtype=[('comment', 'O'), ('label', '<i8')])"
      ]
     },
     "execution_count": 21,
     "metadata": {},
     "output_type": "execute_result"
    }
   ],
   "source": [
    "markdown_list = markdown_df[['comment', 'label']].to_records(index=False)\n",
    "markdown_list[:20]"
   ]
  },
  {
   "cell_type": "markdown",
   "id": "d4c4fe7f-ea97-440f-85ec-f4f3da4596f5",
   "metadata": {},
   "source": [
    "### Authors\n",
    "\n",
    "Can the author be a good predictor? That would be the case if several prolific authors were being serial sarcasts."
   ]
  },
  {
   "cell_type": "code",
   "execution_count": 22,
   "id": "3aee1bdd-6872-41e6-9c4e-16049d802489",
   "metadata": {},
   "outputs": [
    {
     "data": {
      "text/plain": [
       "'Found 43113 different authors'"
      ]
     },
     "execution_count": 22,
     "metadata": {},
     "output_type": "execute_result"
    }
   ],
   "source": [
    "author_freq_df = train_df[['author', 'id']].groupby('author').count().sort_values(by='id', ascending=False)\n",
    "f\"Found {author_freq_df[author_freq_df['id'] > 4].shape[0]} different authors\""
   ]
  },
  {
   "cell_type": "code",
   "execution_count": 23,
   "id": "dd2ab269-ad3b-408d-98ce-0718d72e29f0",
   "metadata": {},
   "outputs": [],
   "source": [
    "author_freq_df = author_freq_df.reset_index()"
   ]
  },
  {
   "cell_type": "code",
   "execution_count": 24,
   "id": "198c6d44-8b60-4761-9f83-f39133b1a9ec",
   "metadata": {},
   "outputs": [
    {
     "data": {
      "text/plain": [
       "<AxesSubplot:>"
      ]
     },
     "execution_count": 24,
     "metadata": {},
     "output_type": "execute_result"
    },
    {
     "data": {
      "image/png": "[encoded data removed]",
      "text/plain": [
       "<Figure size 432x288 with 1 Axes>"
      ]
     },
     "metadata": {
      "needs_background": "light"
     },
     "output_type": "display_data"
    }
   ],
   "source": [
    "sub_freq_df = author_freq_df[author_freq_df['id'] > 1]\n",
    "sub_freq_df['id'].hist(bins=200)"
   ]
  },
  {
   "cell_type": "markdown",
   "id": "bb07b213-2f9f-4374-88fc-e19c73aeaf51",
   "metadata": {},
   "source": [
    "### Tip for data cleaning\n",
    "\n",
    "> the dataset was preprocessed by filtering some unwanted items that could reduce the classification performance, such as user mention, URL links, hashtags, foreign language characters, stop words removal, and non-English ASCII character.\n",
    "\n",
    "[link](https://ieeexplore.ieee.org/document/9383219)"
   ]
  },
  {
   "cell_type": "markdown",
   "id": "0865d1c8-b9c4-40cb-802a-455e0e4b4556",
   "metadata": {},
   "source": [
    "## Test file"
   ]
  },
  {
   "cell_type": "code",
   "execution_count": 25,
   "id": "2437f5bb-4a52-43ce-85a5-f11e68b86d2f",
   "metadata": {},
   "outputs": [
    {
     "name": "stdout",
     "output_type": "stream",
     "text": [
      "<class 'pandas.core.frame.DataFrame'>\n",
      "RangeIndex: 101082 entries, 0 to 101081\n",
      "Data columns (total 10 columns):\n",
      " #   Column          Non-Null Count   Dtype \n",
      "---  ------          --------------   ----- \n",
      " 0   id              101082 non-null  int64 \n",
      " 1   comment         101076 non-null  string\n",
      " 2   author          101082 non-null  object\n",
      " 3   subreddit       101082 non-null  string\n",
      " 4   score           101082 non-null  int64 \n",
      " 5   ups             101082 non-null  int64 \n",
      " 6   downs           101082 non-null  int64 \n",
      " 7   date            101082 non-null  object\n",
      " 8   created_utc     101082 non-null  object\n",
      " 9   parent_comment  101082 non-null  string\n",
      "dtypes: int64(4), object(3), string(3)\n",
      "memory usage: 7.7+ MB\n"
     ]
    }
   ],
   "source": [
    "TEST_FILE = 'data/test.csv'\n",
    "test_df = pd.read_csv(TEST_FILE, dtype={'comment': pd.StringDtype(), 'subreddit': pd.StringDtype(), 'parent_comment': pd.StringDtype()})\n",
    "test_df.info()"
   ]
  }
 ],
 "metadata": {
  "kernelspec": {
   "display_name": "Python 3",
   "language": "python",
   "name": "python3"
  },
  "language_info": {
   "codemirror_mode": {
    "name": "ipython",
    "version": 3
   },
   "file_extension": ".py",
   "mimetype": "text/x-python",
   "name": "python",
   "nbconvert_exporter": "python",
   "pygments_lexer": "ipython3",
   "version": "3.8.11"
  }
 },
 "nbformat": 4,
 "nbformat_minor": 5
}
